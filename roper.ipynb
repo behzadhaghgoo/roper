{
 "cells": [
  {
   "cell_type": "code",
   "execution_count": 1,
   "metadata": {
    "colab": {
     "base_uri": "https://localhost:8080/",
     "height": 34
    },
    "colab_type": "code",
    "executionInfo": {
     "elapsed": 352,
     "status": "ok",
     "timestamp": 1559621124439,
     "user": {
      "displayName": "Behzad Haghgoo",
      "photoUrl": "",
      "userId": "04372608214155977975"
     },
     "user_tz": 420
    },
    "id": "MiJT1dhrj4bK",
    "outputId": "b01465ee-cf7c-4a71-b11a-25d265b25183"
   },
   "outputs": [
    {
     "name": "stdout",
     "output_type": "stream",
     "text": [
      "1.1.0\n",
      "True\n"
     ]
    }
   ],
   "source": [
    "import math, random \n",
    "\n",
    "import gym\n",
    "import numpy as np\n",
    "\n",
    "import torch\n",
    "import torch.nn as nn\n",
    "import torch.optim as optim\n",
    "import torch.autograd as autograd \n",
    "import torch.nn.functional as F\n",
    "\n",
    "from ipywidgets import FloatProgress\n",
    "from IPython.display import display\n",
    "\n",
    "import torch\n",
    "print(torch.__version__)\n",
    "\n",
    "from IPython.display import clear_output\n",
    "import matplotlib.pyplot as plt\n",
    "%matplotlib inline\n",
    "\n",
    "plt.rcParams.update({'font.size': 12})\n",
    "\n",
    "USE_CUDA = torch.cuda.is_available()\n",
    "\n",
    "Variable = lambda *args, **kwargs: autograd.Variable(*args, **kwargs).cuda() if USE_CUDA else autograd.Variable(*args, **kwargs)"
   ]
  },
  {
   "cell_type": "markdown",
   "metadata": {
    "colab_type": "text",
    "id": "Sder9ymDj4bQ"
   },
   "source": [
    "## Prioritized Replay Buffer ++"
   ]
  },
  {
   "cell_type": "code",
   "execution_count": 2,
   "metadata": {
    "colab": {},
    "colab_type": "code",
    "id": "lVJ5Ay8zj4bR"
   },
   "outputs": [],
   "source": [
    "class PrioritizedBuffer(object):\n",
    "    def __init__(self, capacity, prob_alpha= 0.6):\n",
    "        self.prob_alpha = prob_alpha\n",
    "        self.capacity   = capacity\n",
    "        self.buffer     = []\n",
    "        self.pos        = 0\n",
    "        self.priorities = np.zeros((capacity,), dtype=np.float32)\n",
    "        self.states_count = {0:0, 1:0, 'frac': 0}\n",
    "        self.states_loss = {0:0, 1:0, 'frac': 0}\n",
    "    \n",
    "    def push(self, meta_state, action, reward, meta_next_state, done):\n",
    "        state = meta_state[0] \n",
    "        state_env = meta_state[1] \n",
    "        next_state = meta_next_state[0]\n",
    "        \n",
    "        assert state.ndim == next_state.ndim\n",
    "        state      = np.expand_dims(state, 0)\n",
    "        next_state = np.expand_dims(next_state, 0)\n",
    "        \n",
    "        max_prio = self.priorities.max() if self.buffer else 1.0\n",
    "        \n",
    "        if len(self.buffer) < self.capacity:\n",
    "            self.buffer.append((state, action, reward, next_state, done, int(state_env)))\n",
    "        else:\n",
    "            self.buffer[self.pos] = (state, action, reward, next_state, done, int(state_env))\n",
    "        \n",
    "        self.priorities[self.pos] = max_prio\n",
    "        self.pos = (self.pos + 1) % self.capacity\n",
    "    \n",
    "    def sample(self, batch_size, beta=0.4):\n",
    "        if len(self.buffer) == self.capacity:\n",
    "            prios = self.priorities\n",
    "        else:\n",
    "            prios = self.priorities[:self.pos]\n",
    "        probs  = prios ** self.prob_alpha\n",
    "        probs /= probs.sum()\n",
    "        \n",
    "        indices = np.random.choice(len(self.buffer), batch_size, p=probs)\n",
    "        samples = [self.buffer[idx] for idx in indices]\n",
    "        \n",
    "        total    = len(self.buffer)\n",
    "        weights  = (total * probs[indices]) ** (-beta)\n",
    "        weights /= (weights.max()) # FIXIT: What if the max is zero?\n",
    "        weights  = np.array(weights, dtype=np.float32)\n",
    "        \n",
    "        batch       = list(zip(*samples))\n",
    "        states      = np.concatenate(batch[0])\n",
    "        actions     = batch[1]\n",
    "        rewards     = batch[2]\n",
    "        next_states = np.concatenate(batch[3])\n",
    "        dones       = batch[4]\n",
    "        state_envs = list(batch[5])\n",
    "        \n",
    "        # increment states count\n",
    "        self.states_count[0] += len(state_envs) - sum(state_envs) # states.shape[0] - np.sum(states[:,-1])\n",
    "        self.states_count[1] += sum(state_envs)  # np.sum(states[:,-1])\n",
    "        \n",
    "        return states, actions, rewards, next_states, dones, indices, weights, state_envs\n",
    "    \n",
    "    def update_priorities(self, batch_indices, batch_priorities):\n",
    "        for idx, prio in zip(batch_indices, batch_priorities):\n",
    "            self.priorities[idx] = prio\n",
    "\n",
    "    def __len__(self):\n",
    "        return len(self.buffer)"
   ]
  },
  {
   "cell_type": "code",
   "execution_count": 3,
   "metadata": {
    "colab": {},
    "colab_type": "code",
    "id": "-DCM5ubVj4bT"
   },
   "outputs": [],
   "source": [
    "beta_start = 0.4\n",
    "beta_frames = 1000 \n",
    "beta_by_frame = lambda frame_idx: min(1.0, beta_start + frame_idx * (1.0 - beta_start) / beta_frames)"
   ]
  },
  {
   "cell_type": "markdown",
   "metadata": {
    "colab_type": "text",
    "id": "KCZzANmCj4bV"
   },
   "source": [
    "## Cartpole Env"
   ]
  },
  {
   "cell_type": "code",
   "execution_count": 4,
   "metadata": {
    "colab": {},
    "colab_type": "code",
    "id": "x1TfRy-Uj4bV"
   },
   "outputs": [],
   "source": [
    "env_id = \"CartPole-v0\"\n",
    "env = gym.make(env_id)\n",
    "val_env = gym.make(env_id)\n",
    "epsilon_start = 1.0\n",
    "epsilon_final = 0.01\n",
    "epsilon_decay = 500\n",
    "epsilon_by_frame = lambda frame_idx: epsilon_final + (epsilon_start - epsilon_final) * math.exp(-1. * frame_idx / epsilon_decay)"
   ]
  },
  {
   "cell_type": "markdown",
   "metadata": {
    "colab_type": "text",
    "id": "0ZRaoHmmj4bX"
   },
   "source": [
    "## DQN"
   ]
  },
  {
   "cell_type": "code",
   "execution_count": 5,
   "metadata": {
    "colab": {},
    "colab_type": "code",
    "id": "Min_BjU7j4bY"
   },
   "outputs": [],
   "source": [
    "class DQN(nn.Module):\n",
    "    def __init__(self, num_inputs, num_actions):\n",
    "        super(DQN, self).__init__()\n",
    "        \n",
    "        self.layers = nn.Sequential(\n",
    "            nn.Linear(num_inputs, 128),\n",
    "            nn.ReLU(),\n",
    "            nn.Linear(128, 128),\n",
    "        )\n",
    "        self.fc = nn.Linear(128, env.action_space.n)\n",
    "        \n",
    "    def forward(self, x, return_hidden = False):\n",
    "        hidden = self.layers(x)\n",
    "        out = self.fc(F.relu(hidden))\n",
    "        if return_hidden:\n",
    "            return out, hidden\n",
    "        return out\n",
    "    \n",
    "#      def get_hidden(self, x):\n",
    "#         hidden = self.layers(x)\n",
    "#         out = self.fc(F.relu(hidden))\n",
    "#         return out, hidden\n",
    "    \n",
    "    def act(self, state, epsilon):\n",
    "        if random.random() > epsilon:\n",
    "            state   = Variable(torch.FloatTensor(state).unsqueeze(0), volatile=True)\n",
    "            q_value = self.forward(state)\n",
    "            action  = q_value.max(1)[1].data[0]\n",
    "            action = int(action)\n",
    "        else:\n",
    "            action = random.randrange(env.action_space.n)\n",
    "        return action"
   ]
  },
  {
   "cell_type": "code",
   "execution_count": 6,
   "metadata": {
    "colab": {},
    "colab_type": "code",
    "id": "REmWJwOAj4ba"
   },
   "outputs": [],
   "source": [
    "current_model = DQN(env.observation_space.shape[0], env.action_space.n)\n",
    "target_model  = DQN(env.observation_space.shape[0], env.action_space.n)\n",
    "\n",
    "if USE_CUDA:\n",
    "    current_model = current_model.cuda()\n",
    "    target_model  = target_model.cuda()\n",
    "    \n",
    "optimizer = optim.Adam(current_model.parameters())"
   ]
  },
  {
   "cell_type": "code",
   "execution_count": 7,
   "metadata": {
    "colab": {},
    "colab_type": "code",
    "id": "L0coPdn_j4be"
   },
   "outputs": [],
   "source": [
    "def update_target(current_model, target_model):\n",
    "    target_model.load_state_dict(current_model.state_dict())"
   ]
  },
  {
   "cell_type": "code",
   "execution_count": 8,
   "metadata": {
    "colab": {},
    "colab_type": "code",
    "id": "v7YBBH4Yj4bg"
   },
   "outputs": [],
   "source": [
    "update_target(current_model, target_model)"
   ]
  },
  {
   "cell_type": "markdown",
   "metadata": {
    "colab_type": "text",
    "id": "u2d8H_tNj4bk"
   },
   "source": [
    "## TD Loss"
   ]
  },
  {
   "cell_type": "code",
   "execution_count": 12,
   "metadata": {
    "colab": {},
    "colab_type": "code",
    "id": "ZvgJjkq6j4bl"
   },
   "outputs": [],
   "source": [
    "def hidden_weights(h, power, batch_size = 32, meg_norm = False):\n",
    "    if meg_norm:\n",
    "#         print(h.size(), torch.norm(torch.mul(h, h), dim = 1, p = 2).size())\n",
    "        h = h / torch.reshape(torch.norm(torch.mul(h, h), dim = 1, p = 2), (-1,1))\n",
    "# #       w[i,j] = h[i].h[j]/|h[i]||h[j]|\n",
    "\n",
    "    weights = torch.mm(h,torch.transpose(h, 0, 1))\n",
    "    weights = torch.abs(weights)**power\n",
    "    return weights\n",
    "\n",
    "        \n",
    "def hidden_mean(h, tensor, batch_size, power, mode = \"dot\", exp = False):\n",
    "    if exp:\n",
    "        tensor = torch.exp(tensor) \n",
    "    tensor = torch.reshape(tensor,(-1,1))\n",
    "    \n",
    "    if mode == \"dot\":\n",
    "        weights = hidden_weights(h, power, batch_size)    \n",
    "    elif mode == \"euc\":\n",
    "        weights = euclidean_weights(h, batch_size)    \n",
    "        \n",
    "    output = torch.mm(weights, tensor)\n",
    "    output = output.squeeze(1)\n",
    "    if exp:\n",
    "        return torch.log(output * batch_size)\n",
    "    return output * batch_size\n",
    "\n",
    "\n",
    "def compute_td_loss(cur_model, tar_model, batch_size, beta, power, bd = False):\n",
    "    state, action, reward, next_state, done, indices, weights, state_envs = replay_buffer.sample(batch_size, beta)\n",
    "    \n",
    "    state      = Variable(torch.FloatTensor(np.float32(state)))\n",
    "    next_state = Variable(torch.FloatTensor(np.float32(next_state)))\n",
    "    action     = Variable(torch.LongTensor(action))\n",
    "    reward     = Variable(torch.FloatTensor(reward))\n",
    "    done       = Variable(torch.FloatTensor(done))\n",
    "    weights    = Variable(torch.FloatTensor(weights))\n",
    "\n",
    "    q_values, hiddens = cur_model.forward(state, return_hidden = True)\n",
    "    next_q_values = tar_model(next_state)\n",
    "\n",
    "    q_value          = q_values.gather(1, action.unsqueeze(1)).squeeze(1)\n",
    "    next_q_value     = next_q_values.max(1)[0]\n",
    "    expected_q_value = reward + gamma * next_q_value * (1 - done)\n",
    "    \n",
    "    loss  = (q_value - expected_q_value.detach()).pow(2) * weights\n",
    "    \n",
    "    if bd:\n",
    "        q_value = hidden_mean(hiddens, q_value, batch_size, power)\n",
    "        expected_q_value = hidden_mean(hiddens, expected_q_value, batch_size, power)\n",
    "    \n",
    "    prios = (q_value - expected_q_value.detach()).pow(2) * weights + 1e-5\n",
    "    loss  = loss.mean()\n",
    "        \n",
    "    optimizer.zero_grad()\n",
    "    loss.backward()\n",
    "    replay_buffer.update_priorities(indices, prios.data.cpu().numpy())\n",
    "    optimizer.step()\n",
    "    \n",
    "    return loss\n"
   ]
  },
  {
   "cell_type": "markdown",
   "metadata": {
    "colab_type": "text",
    "id": "TiqwAN5Wj4bn"
   },
   "source": [
    "## Plot"
   ]
  },
  {
   "cell_type": "code",
   "execution_count": null,
   "metadata": {
    "colab": {},
    "colab_type": "code",
    "id": "z6ZGdFJcj4bn"
   },
   "outputs": [],
   "source": [
    "def plot(frame_idx, rewards, losses, standard_val_rewards, noisy_val_rewards, states_count_ratios):\n",
    "    clear_output(True)\n",
    "    plt.figure(figsize=(20,16))\n",
    "    plt.subplot(321)\n",
    "    plt.title('frame %s. reward: %s' % (frame_idx, np.mean(rewards[-10:])))\n",
    "    plt.plot(rewards)\n",
    "    plt.subplot(322)\n",
    "    plt.title('loss')\n",
    "    plt.plot(losses)\n",
    "    plt.subplot(323)\n",
    "    plt.title('frame %s. val reward on standard env: %s' % (frame_idx, np.mean(standard_val_rewards[-10:])))\n",
    "    plt.plot(standard_val_rewards)\n",
    "    plt.subplot(324)\n",
    "    plt.title('frame %s.val reward on noisy env: %s' % (frame_idx, np.mean(noisy_val_rewards[-10:])))\n",
    "    plt.plot(noisy_val_rewards)\n",
    "    plt.subplot(325)\n",
    "    plt.title('frame %s. proportion of selecting noisy env: %s' % (frame_idx, np.mean(states_count_ratios[-10:])))\n",
    "    plt.plot(states_count_ratios)\n",
    "    plt.show()"
   ]
  },
  {
   "cell_type": "markdown",
   "metadata": {
    "colab_type": "text",
    "id": "k7HlrN5Xj4bp"
   },
   "source": [
    "## Train"
   ]
  },
  {
   "cell_type": "code",
   "execution_count": 14,
   "metadata": {
    "colab": {},
    "colab_type": "code",
    "id": "HRcIJ5xSj4bp"
   },
   "outputs": [],
   "source": [
    "# Test agent on standard or noisy env\n",
    "# Resulting episode reward stored in XXX_val_rewards where XXX is standard or noisy \n",
    "num_val_trials = 10\n",
    "def test(noisyGame, eps):\n",
    "    rewards = []\n",
    "    for i in range(num_val_trials):\n",
    "        epsilon = 0 \n",
    "        episode_reward = 0\n",
    "        state = val_env.reset()\n",
    "        state = np.append(state, float(noisyGame)) # BACK IN \n",
    "        with torch.no_grad():\n",
    "            while True:\n",
    "                original_action = current_model.act(state, epsilon)\n",
    "                \n",
    "                if original_action != int(original_action):\n",
    "                    original_action = original_action.numpy()[0]\n",
    "#                 Revert actions\n",
    "#                 if noisyGame and random.uniform(0,1) < eps:\n",
    "#                     actual_action = 1 - original_action\n",
    "#                 else:\n",
    "#                     actual_action = original_action \n",
    "                actual_action = original_action\n",
    "                next_state, reward, done, _ = val_env.step(actual_action)\n",
    "                next_state = np.append(next_state, float(noisyGame))\n",
    "                \n",
    "                if noisyGame:\n",
    "                    reward += random.uniform(-1., 1.)\n",
    "                \n",
    "                state = next_state\n",
    "                episode_reward += reward\n",
    "\n",
    "                if done:\n",
    "                    rewards.append(episode_reward)\n",
    "                    break \n",
    "    return np.mean(rewards)"
   ]
  },
  {
   "cell_type": "code",
   "execution_count": 2,
   "metadata": {
    "colab": {
     "base_uri": "https://localhost:8080/",
     "height": 952
    },
    "colab_type": "code",
    "executionInfo": {
     "elapsed": 156,
     "status": "ok",
     "timestamp": 1559621377188,
     "user": {
      "displayName": "Behzad Haghgoo",
      "photoUrl": "",
      "userId": "04372608214155977975"
     },
     "user_tz": 420
    },
    "id": "vSv4ZC10j4br",
    "outputId": "bf7749ab-a590-496e-b4d1-eb3c1b20e7a0",
    "scrolled": false
   },
   "outputs": [],
   "source": [
    "num_frames = 10000\n",
    "batch_size = 32\n",
    "gamma      = 0.99\n",
    "num_trials = 1\n",
    "\n",
    "losses = []\n",
    "all_rewards = []\n",
    "standard_val_rewards = [] \n",
    "noisy_val_rewards = [] \n",
    "states_count_ratios = []\n",
    "episode_reward = 0\n",
    "\n",
    "noisyGame = False\n",
    "state = env.reset()\n",
    "state = np.append(state, float(noisyGame)) # BACK IN \n",
    "meta_state = (state, float(noisyGame))\n",
    "# zerod_state = np.append(state[:-1] ,0) #np.append(state, 0)\n",
    "replay_buffer = PrioritizedBuffer(100000)\n",
    "current_model = DQN(env.observation_space.shape[0] + 1, env.action_space.n) # BACK IN \n",
    "target_model  = DQN(env.observation_space.shape[0] + 1, env.action_space.n) # BACK IN\n",
    "optimizer = optim.Adam(current_model.parameters())\n",
    "\n",
    "if USE_CUDA:\n",
    "    current_model = current_model.cuda()\n",
    "    target_model  = target_model.cuda()\n",
    "    \n",
    "# Probability of action being random in noisy state\n",
    "eps = 1.\n",
    "f = FloatProgress(min=0, max=num_frames)\n",
    "display(f)\n",
    "\n",
    "variances = [0.3**2, 1**2, 3**2, 10**2]\n",
    "powers = [0.3, 0.7, 1]\n",
    "methods = [True, False]\n",
    "\n",
    "results_dict = {} \n",
    "\n",
    "for is_our_method in methods:\n",
    "    if is_our_method: \n",
    "        print(\"testing our method\")\n",
    "        powers = [0.3, 0.7, 1]\n",
    "    else:\n",
    "        print(\"testing td loss\")\n",
    "        powers = [-100] # doesn't really matter \n",
    "    for power in powers: \n",
    "        print(\"testing power: {}\".format(power))\n",
    "        result_per_variance = [] \n",
    "        for var in variances: \n",
    "            print(\"testing variance: {}\".format(var))\n",
    "            result_per_trial = [] \n",
    "            for t in range(num_trials):\n",
    "                print(\"trial number: {}\".format(t))\n",
    "                standard_val_rewards = [] \n",
    "                for frame_idx in range(1, num_frames + 1):\n",
    "                    epsilon = epsilon_by_frame(frame_idx)\n",
    "                    original_action = current_model.act(state, epsilon)\n",
    "\n",
    "                    # If in noisy environment, make action random with probability eps \n",
    "                    if noisyGame and random.uniform(0,1) < eps:\n",
    "                        actual_action = 1 - original_action # invert \n",
    "                    else:\n",
    "                        actual_action = original_action\n",
    "                    next_state, reward, done, _ = env.step(actual_action)\n",
    "\n",
    "                    # If in noisy environment, make reward completely random \n",
    "                    if noisyGame:\n",
    "                        reward *= np.random.normal(0, var) \n",
    "                        #reward *= np.random.normal(-0, float(3000  / 10000.0) + 10)  #(- 9 - 11 * random.uniform(-1., 1.))\n",
    "                    next_state = np.append(next_state, float(noisyGame)) # BACK IN \n",
    "                    meta_next_state = (next_state, float(noisyGame))\n",
    "                    replay_buffer.push(meta_state, original_action, reward, meta_next_state, done)\n",
    "\n",
    "                    meta_state = meta_next_state\n",
    "                    episode_reward += reward\n",
    "\n",
    "                    if done:\n",
    "                        noisyGame = 1-noisyGame\n",
    "                        state = env.reset()\n",
    "                        state = np.append(state, float(noisyGame)) # BACK IN \n",
    "                        meta_state = (state, float(noisyGame))\n",
    "                        all_rewards.append(episode_reward)\n",
    "                        episode_reward = 0\n",
    "\n",
    "                    if len(replay_buffer) > batch_size:\n",
    "                        beta = beta_by_frame(frame_idx)\n",
    "                        loss = compute_td_loss(current_model, target_model, batch_size, beta, power, bd=is_our_method)\n",
    "                        losses.append(loss.data.tolist())\n",
    "\n",
    "                    if frame_idx % 200 == 0:\n",
    "                        standard_val_rewards.append(test(False, eps))\n",
    "                        noisy_val_rewards.append(test(True, eps))\n",
    "                        states_count_ratios.append(float(replay_buffer.states_count[1]) / (float(replay_buffer.states_count[1])  + float(replay_buffer.states_count[0])))\n",
    "                #         plot(frame_idx, all_rewards, losses, standard_val_rewards, noisy_val_rewards, states_count_ratios)\n",
    "\n",
    "                    if frame_idx % 1000 == 0:\n",
    "                        update_target(current_model, target_model)\n",
    "                        print(\"frame_idx\", frame_idx)\n",
    "\n",
    "                    f.value += 1\n",
    "\n",
    "                result_per_trial.append(np.mean(standard_val_rewards[-20:]))\n",
    "                print(\"val reward mean \", np.mean(standard_val_rewards[-20:]))\n",
    "            result_per_variance.append(result_per_trial)\n",
    "        results_dict[power] = result_per_variance \n",
    "                #print(\"prop of selecting noisy env\", str(float(replay_buffer.states_count[1]) / (float(replay_buffer.states_count[1])  + float(replay_buffer.states_count[0]))))\n"
   ]
  },
  {
   "cell_type": "code",
   "execution_count": 95,
   "metadata": {
    "colab": {},
    "colab_type": "code",
    "id": "yJsrqjnmj4bu"
   },
   "outputs": [],
   "source": [
    "# flipping control isn't necessary \n",
    "# including noisyGame in state is necessary \n",
    "def concatenate(list_of_lists):\n",
    "    return [inner for outer in list_of_lists for inner in outer]"
   ]
  },
  {
   "cell_type": "code",
   "execution_count": null,
   "metadata": {
    "colab": {},
    "colab_type": "code",
    "id": "7Unb9HsOj4bv"
   },
   "outputs": [],
   "source": [
    "results_df = pd.DataFrame()\n",
    "results_df['td loss'] = results_dict[-100] # find faster way to concatenate \n",
    "results_df['our method: power 0.3'] = results_dict[0.3]\n",
    "results_df['our method: power 0.7'] = results_dict[0.7]\n",
    "results_df['our method: power 1'] = results_dict[1]\n",
    "results_df['variance'] = variances * num_trials * 4 \n",
    "results_df['final reward'] = concatenate(results_dict[-100]) + concatenate(results_dict[0.3]) + concatenate(results_dict[0.7]) + concatenate(results_dict[1])\n",
    "results_df['model'] = ['td loss'] * num_trials * len(variances) + ['our method: power 0.3'] * num_trials * len(variances) + ['our method: power 0.7'] * num_trials * len(variances) + 'our method: power 1'] * num_trials * len(variances) \n"
   ]
  },
  {
   "cell_type": "code",
   "execution_count": null,
   "metadata": {
    "colab": {},
    "colab_type": "code",
    "id": "Ag9858F7j4bx"
   },
   "outputs": [],
   "source": [
    "sns.lineplot(x='variance', y='final reward', data=results_df, hue='model', estimator='mean')"
   ]
  },
  {
   "cell_type": "markdown",
   "metadata": {},
   "source": [
    "### Once we have our best models "
   ]
  },
  {
   "cell_type": "code",
   "execution_count": null,
   "metadata": {},
   "outputs": [],
   "source": [
    "best_df = pd.DataFrame()\n",
    "best_df['every 200th frame'] = list(range(50)) * num_trials \n",
    "best_df['reward'] = concatenate(best_reward_list) \n",
    "best_df['selection proportion'] = concatenate(best_selection_proportion_list) \n",
    "best_df['model'] = ['td loss'] * __ + ['our model'] * __ "
   ]
  },
  {
   "cell_type": "code",
   "execution_count": null,
   "metadata": {},
   "outputs": [],
   "source": [
    "sns.lineplot(x='every 200th frame', y='reward', data=best_df, hue='model', estimator='mean')"
   ]
  },
  {
   "cell_type": "code",
   "execution_count": null,
   "metadata": {},
   "outputs": [],
   "source": [
    "sns.lineplot(x='every 200th frame', y='selection proportion', data=best_df, hue='model', estimator='mean')"
   ]
  }
 ],
 "metadata": {
  "accelerator": "GPU",
  "colab": {
   "collapsed_sections": [],
   "name": "gpu_model.ipynb",
   "provenance": [],
   "version": "0.3.2"
  },
  "kernelspec": {
   "display_name": "Python 3",
   "language": "python",
   "name": "python3"
  },
  "language_info": {
   "codemirror_mode": {
    "name": "ipython",
    "version": 3
   },
   "file_extension": ".py",
   "mimetype": "text/x-python",
   "name": "python",
   "nbconvert_exporter": "python",
   "pygments_lexer": "ipython3",
   "version": "3.6.7"
  }
 },
 "nbformat": 4,
 "nbformat_minor": 2
}
